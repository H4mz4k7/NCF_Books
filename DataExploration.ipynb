{
 "cells": [
  {
   "cell_type": "code",
   "execution_count": 135,
   "metadata": {},
   "outputs": [],
   "source": [
    "import sys\n",
    "import pandas as pd\n",
    "import tensorflow as tf\n",
    "import numpy as np\n",
    "import matplotlib.pyplot as plt\n",
    "import seaborn as sns\n",
    "from recommenders.datasets.python_splitters import python_stratified_split\n"
   ]
  },
  {
   "cell_type": "code",
   "execution_count": 92,
   "metadata": {},
   "outputs": [
    {
     "name": "stderr",
     "output_type": "stream",
     "text": [
      "C:\\Users\\hamza\\AppData\\Local\\Temp\\ipykernel_2208\\1427422357.py:1: FutureWarning: The error_bad_lines argument has been deprecated and will be removed in a future version. Use on_bad_lines in the future.\n",
      "\n",
      "\n",
      "  rating = pd.read_csv('books_data/ratings.csv', sep=';', error_bad_lines=False, encoding=\"latin-1\")\n",
      "C:\\Users\\hamza\\AppData\\Local\\Temp\\ipykernel_2208\\1427422357.py:2: FutureWarning: The error_bad_lines argument has been deprecated and will be removed in a future version. Use on_bad_lines in the future.\n",
      "\n",
      "\n",
      "  books = pd.read_csv('books_data/books.csv', sep=';', error_bad_lines=False, encoding=\"latin-1\")\n",
      "Skipping line 6452: expected 8 fields, saw 9\n",
      "Skipping line 43667: expected 8 fields, saw 10\n",
      "Skipping line 51751: expected 8 fields, saw 9\n",
      "\n",
      "Skipping line 92038: expected 8 fields, saw 9\n",
      "Skipping line 104319: expected 8 fields, saw 9\n",
      "Skipping line 121768: expected 8 fields, saw 9\n",
      "\n",
      "Skipping line 144058: expected 8 fields, saw 9\n",
      "Skipping line 150789: expected 8 fields, saw 9\n",
      "Skipping line 157128: expected 8 fields, saw 9\n",
      "Skipping line 180189: expected 8 fields, saw 9\n",
      "Skipping line 185738: expected 8 fields, saw 9\n",
      "\n",
      "Skipping line 209388: expected 8 fields, saw 9\n",
      "Skipping line 220626: expected 8 fields, saw 9\n",
      "Skipping line 227933: expected 8 fields, saw 11\n",
      "Skipping line 228957: expected 8 fields, saw 10\n",
      "Skipping line 245933: expected 8 fields, saw 9\n",
      "Skipping line 251296: expected 8 fields, saw 9\n",
      "Skipping line 259941: expected 8 fields, saw 9\n",
      "Skipping line 261529: expected 8 fields, saw 9\n",
      "\n",
      "C:\\Users\\hamza\\AppData\\Local\\Temp\\ipykernel_2208\\1427422357.py:2: DtypeWarning: Columns (3) have mixed types. Specify dtype option on import or set low_memory=False.\n",
      "  books = pd.read_csv('books_data/books.csv', sep=';', error_bad_lines=False, encoding=\"latin-1\")\n"
     ]
    }
   ],
   "source": [
    "rating = pd.read_csv('books_data/ratings.csv', sep=';', error_bad_lines=False, encoding=\"latin-1\")\n",
    "books = pd.read_csv('books_data/books.csv', sep=';', error_bad_lines=False, encoding=\"latin-1\")"
   ]
  },
  {
   "cell_type": "code",
   "execution_count": 104,
   "metadata": {},
   "outputs": [
    {
     "data": {
      "text/html": [
       "<div>\n",
       "<style scoped>\n",
       "    .dataframe tbody tr th:only-of-type {\n",
       "        vertical-align: middle;\n",
       "    }\n",
       "\n",
       "    .dataframe tbody tr th {\n",
       "        vertical-align: top;\n",
       "    }\n",
       "\n",
       "    .dataframe thead th {\n",
       "        text-align: right;\n",
       "    }\n",
       "</style>\n",
       "<table border=\"1\" class=\"dataframe\">\n",
       "  <thead>\n",
       "    <tr style=\"text-align: right;\">\n",
       "      <th></th>\n",
       "      <th>User-ID</th>\n",
       "      <th>Book-Rating</th>\n",
       "    </tr>\n",
       "  </thead>\n",
       "  <tbody>\n",
       "    <tr>\n",
       "      <th>count</th>\n",
       "      <td>1.149780e+06</td>\n",
       "      <td>1.149780e+06</td>\n",
       "    </tr>\n",
       "    <tr>\n",
       "      <th>mean</th>\n",
       "      <td>1.403864e+05</td>\n",
       "      <td>2.866950e+00</td>\n",
       "    </tr>\n",
       "    <tr>\n",
       "      <th>std</th>\n",
       "      <td>8.056228e+04</td>\n",
       "      <td>3.854184e+00</td>\n",
       "    </tr>\n",
       "    <tr>\n",
       "      <th>min</th>\n",
       "      <td>2.000000e+00</td>\n",
       "      <td>0.000000e+00</td>\n",
       "    </tr>\n",
       "    <tr>\n",
       "      <th>25%</th>\n",
       "      <td>7.034500e+04</td>\n",
       "      <td>0.000000e+00</td>\n",
       "    </tr>\n",
       "    <tr>\n",
       "      <th>50%</th>\n",
       "      <td>1.410100e+05</td>\n",
       "      <td>0.000000e+00</td>\n",
       "    </tr>\n",
       "    <tr>\n",
       "      <th>75%</th>\n",
       "      <td>2.110280e+05</td>\n",
       "      <td>7.000000e+00</td>\n",
       "    </tr>\n",
       "    <tr>\n",
       "      <th>max</th>\n",
       "      <td>2.788540e+05</td>\n",
       "      <td>1.000000e+01</td>\n",
       "    </tr>\n",
       "  </tbody>\n",
       "</table>\n",
       "</div>"
      ],
      "text/plain": [
       "            User-ID   Book-Rating\n",
       "count  1.149780e+06  1.149780e+06\n",
       "mean   1.403864e+05  2.866950e+00\n",
       "std    8.056228e+04  3.854184e+00\n",
       "min    2.000000e+00  0.000000e+00\n",
       "25%    7.034500e+04  0.000000e+00\n",
       "50%    1.410100e+05  0.000000e+00\n",
       "75%    2.110280e+05  7.000000e+00\n",
       "max    2.788540e+05  1.000000e+01"
      ]
     },
     "execution_count": 104,
     "metadata": {},
     "output_type": "execute_result"
    }
   ],
   "source": [
    "books.describe()\n",
    "rating.describe()"
   ]
  },
  {
   "cell_type": "code",
   "execution_count": 105,
   "metadata": {},
   "outputs": [
    {
     "data": {
      "text/html": [
       "<div>\n",
       "<style scoped>\n",
       "    .dataframe tbody tr th:only-of-type {\n",
       "        vertical-align: middle;\n",
       "    }\n",
       "\n",
       "    .dataframe tbody tr th {\n",
       "        vertical-align: top;\n",
       "    }\n",
       "\n",
       "    .dataframe thead th {\n",
       "        text-align: right;\n",
       "    }\n",
       "</style>\n",
       "<table border=\"1\" class=\"dataframe\">\n",
       "  <thead>\n",
       "    <tr style=\"text-align: right;\">\n",
       "      <th></th>\n",
       "      <th>userID</th>\n",
       "      <th>rating</th>\n",
       "      <th>itemID</th>\n",
       "    </tr>\n",
       "  </thead>\n",
       "  <tbody>\n",
       "    <tr>\n",
       "      <th>count</th>\n",
       "      <td>383842.000000</td>\n",
       "      <td>383842.000000</td>\n",
       "      <td>383842.000000</td>\n",
       "    </tr>\n",
       "    <tr>\n",
       "      <th>mean</th>\n",
       "      <td>136031.461260</td>\n",
       "      <td>7.626701</td>\n",
       "      <td>65918.113794</td>\n",
       "    </tr>\n",
       "    <tr>\n",
       "      <th>std</th>\n",
       "      <td>80482.299401</td>\n",
       "      <td>1.841339</td>\n",
       "      <td>70877.165072</td>\n",
       "    </tr>\n",
       "    <tr>\n",
       "      <th>min</th>\n",
       "      <td>8.000000</td>\n",
       "      <td>1.000000</td>\n",
       "      <td>0.000000</td>\n",
       "    </tr>\n",
       "    <tr>\n",
       "      <th>25%</th>\n",
       "      <td>67591.000000</td>\n",
       "      <td>7.000000</td>\n",
       "      <td>10767.000000</td>\n",
       "    </tr>\n",
       "    <tr>\n",
       "      <th>50%</th>\n",
       "      <td>133789.000000</td>\n",
       "      <td>8.000000</td>\n",
       "      <td>34216.500000</td>\n",
       "    </tr>\n",
       "    <tr>\n",
       "      <th>75%</th>\n",
       "      <td>206219.000000</td>\n",
       "      <td>9.000000</td>\n",
       "      <td>105470.750000</td>\n",
       "    </tr>\n",
       "    <tr>\n",
       "      <th>max</th>\n",
       "      <td>278854.000000</td>\n",
       "      <td>10.000000</td>\n",
       "      <td>270150.000000</td>\n",
       "    </tr>\n",
       "  </tbody>\n",
       "</table>\n",
       "</div>"
      ],
      "text/plain": [
       "              userID         rating         itemID\n",
       "count  383842.000000  383842.000000  383842.000000\n",
       "mean   136031.461260       7.626701   65918.113794\n",
       "std     80482.299401       1.841339   70877.165072\n",
       "min         8.000000       1.000000       0.000000\n",
       "25%     67591.000000       7.000000   10767.000000\n",
       "50%    133789.000000       8.000000   34216.500000\n",
       "75%    206219.000000       9.000000  105470.750000\n",
       "max    278854.000000      10.000000  270150.000000"
      ]
     },
     "execution_count": 105,
     "metadata": {},
     "output_type": "execute_result"
    }
   ],
   "source": [
    "books_df = pd.merge(rating, books, on='ISBN')\n",
    "books_df['itemID'] = pd.factorize(books_df['ISBN'])[0]\n",
    "books_df.rename(columns={'User-ID': 'userID', 'Book-Rating' : 'rating', 'Book-Title' : 'title', 'Book-Author' : 'author'}, inplace=True)\n",
    "cols = ['Year-Of-Publication', 'Publisher', 'ISBN', 'Image-URL-S', 'Image-URL-M', 'Image-URL-L']\n",
    "books_df.drop(cols, axis=1, inplace=True)\n",
    "books_df = books_df[books_df.rating != 0]\n",
    "\n",
    "\n",
    "\n",
    "books_df.describe()\n"
   ]
  },
  {
   "cell_type": "code",
   "execution_count": 109,
   "metadata": {},
   "outputs": [
    {
     "name": "stdout",
     "output_type": "stream",
     "text": [
      "Number of ratings: 2927448\n",
      "Number of unique books's: 149836\n",
      "Number of unique users: 68091\n",
      "Average number of ratings per user: 42.99\n",
      "Average number of ratings per book: 19.54\n"
     ]
    }
   ],
   "source": [
    "n_books = books_df['itemID'].nunique()\n",
    "n_users = books_df['userID'].nunique()\n",
    "n_ratings = (books_df['rating']).sum() \n",
    "\n",
    "\n",
    "print(f\"Number of ratings: {n_ratings}\")\n",
    "print(f\"Number of unique books's: {n_books}\")\n",
    "print(f\"Number of unique users: {n_users}\")\n",
    "print(f\"Average number of ratings per user: {round(n_ratings/n_users, 2)}\")\n",
    "print(f\"Average number of ratings per book: {round(n_ratings/n_books, 2)}\")\n",
    "\n",
    "\n",
    "\n"
   ]
  },
  {
   "cell_type": "code",
   "execution_count": 110,
   "metadata": {},
   "outputs": [
    {
     "name": "stderr",
     "output_type": "stream",
     "text": [
      "C:\\Users\\hamza\\AppData\\Local\\Temp\\ipykernel_2208\\2487798434.py:1: FutureWarning: \n",
      "\n",
      "Passing `palette` without assigning `hue` is deprecated and will be removed in v0.14.0. Assign the `x` variable to `hue` and set `legend=False` for the same effect.\n",
      "\n",
      "  sns.countplot(x=\"rating\", data=books_df, palette=\"viridis\")\n"
     ]
    },
    {
     "data": {
      "image/png": "[encoded data removed]",
      "text/plain": [
       "<Figure size 640x480 with 1 Axes>"
      ]
     },
     "metadata": {},
     "output_type": "display_data"
    }
   ],
   "source": [
    "sns.countplot(x=\"rating\", data=books_df, palette=\"viridis\")\n",
    "plt.title(\"Distribution of movie ratings\", fontsize=14)\n",
    "plt.show()"
   ]
  },
  {
   "cell_type": "code",
   "execution_count": 82,
   "metadata": {},
   "outputs": [
    {
     "data": {
      "text/plain": [
       "The Lovely Bones: A Novel                           707\n",
       "Wild Animus                                         581\n",
       "The Da Vinci Code                                   494\n",
       "The Secret Life of Bees                             406\n",
       "The Nanny Diaries: A Novel                          393\n",
       "The Red Tent (Bestselling Backlist)                 383\n",
       "Bridget Jones's Diary                               377\n",
       "A Painted House                                     366\n",
       "Life of Pi                                          336\n",
       "Harry Potter and the Chamber of Secrets (Book 2)    326\n",
       "Name: title, dtype: int64"
      ]
     },
     "execution_count": 82,
     "metadata": {},
     "output_type": "execute_result"
    }
   ],
   "source": [
    "books_df['title'].value_counts()[0:10]"
   ]
  },
  {
   "cell_type": "code",
   "execution_count": 85,
   "metadata": {},
   "outputs": [
    {
     "name": "stdout",
     "output_type": "stream",
     "text": [
      "Mean global rating: 7.63.\n",
      "Mean rating per user: 7.49.\n"
     ]
    }
   ],
   "source": [
    "print(f\"Mean global rating: {round(books_df['rating'].mean(),2)}.\")\n",
    "\n",
    "mean_ratings = books_df.groupby('userID')['rating'].mean()\n",
    "print(f\"Mean rating per user: {round(mean_ratings.mean(),2)}.\")"
   ]
  },
  {
   "cell_type": "code",
   "execution_count": 125,
   "metadata": {},
   "outputs": [
    {
     "data": {
      "text/html": [
       "<div>\n",
       "<style scoped>\n",
       "    .dataframe tbody tr th:only-of-type {\n",
       "        vertical-align: middle;\n",
       "    }\n",
       "\n",
       "    .dataframe tbody tr th {\n",
       "        vertical-align: top;\n",
       "    }\n",
       "\n",
       "    .dataframe thead th {\n",
       "        text-align: right;\n",
       "    }\n",
       "</style>\n",
       "<table border=\"1\" class=\"dataframe\">\n",
       "  <thead>\n",
       "    <tr style=\"text-align: right;\">\n",
       "      <th></th>\n",
       "      <th>userID</th>\n",
       "      <th>rating</th>\n",
       "      <th>title</th>\n",
       "      <th>author</th>\n",
       "      <th>itemID</th>\n",
       "    </tr>\n",
       "  </thead>\n",
       "  <tbody>\n",
       "    <tr>\n",
       "      <th>417960</th>\n",
       "      <td>9440</td>\n",
       "      <td>10</td>\n",
       "      <td>The Meditations of Marcus Aurelius Antoninus (...</td>\n",
       "      <td>Marcus Aurelius</td>\n",
       "      <td>24964</td>\n",
       "    </tr>\n",
       "    <tr>\n",
       "      <th>452444</th>\n",
       "      <td>11676</td>\n",
       "      <td>10</td>\n",
       "      <td>Meditations (Penguin Classics)</td>\n",
       "      <td>Marcus Aurelius</td>\n",
       "      <td>28879</td>\n",
       "    </tr>\n",
       "    <tr>\n",
       "      <th>452445</th>\n",
       "      <td>18254</td>\n",
       "      <td>5</td>\n",
       "      <td>Meditations (Penguin Classics)</td>\n",
       "      <td>Marcus Aurelius</td>\n",
       "      <td>28879</td>\n",
       "    </tr>\n",
       "    <tr>\n",
       "      <th>452448</th>\n",
       "      <td>163419</td>\n",
       "      <td>7</td>\n",
       "      <td>Meditations (Penguin Classics)</td>\n",
       "      <td>Marcus Aurelius</td>\n",
       "      <td>28879</td>\n",
       "    </tr>\n",
       "    <tr>\n",
       "      <th>452449</th>\n",
       "      <td>188796</td>\n",
       "      <td>10</td>\n",
       "      <td>Meditations (Penguin Classics)</td>\n",
       "      <td>Marcus Aurelius</td>\n",
       "      <td>28879</td>\n",
       "    </tr>\n",
       "    <tr>\n",
       "      <th>452450</th>\n",
       "      <td>219209</td>\n",
       "      <td>9</td>\n",
       "      <td>Meditations (Penguin Classics)</td>\n",
       "      <td>Marcus Aurelius</td>\n",
       "      <td>28879</td>\n",
       "    </tr>\n",
       "    <tr>\n",
       "      <th>476449</th>\n",
       "      <td>36268</td>\n",
       "      <td>10</td>\n",
       "      <td>Meditations (Dover Thrift Editions)</td>\n",
       "      <td>Marcus Aurelius</td>\n",
       "      <td>31190</td>\n",
       "    </tr>\n",
       "    <tr>\n",
       "      <th>476453</th>\n",
       "      <td>116284</td>\n",
       "      <td>9</td>\n",
       "      <td>Meditations (Dover Thrift Editions)</td>\n",
       "      <td>Marcus Aurelius</td>\n",
       "      <td>31190</td>\n",
       "    </tr>\n",
       "    <tr>\n",
       "      <th>476458</th>\n",
       "      <td>203323</td>\n",
       "      <td>9</td>\n",
       "      <td>Meditations (Dover Thrift Editions)</td>\n",
       "      <td>Marcus Aurelius</td>\n",
       "      <td>31190</td>\n",
       "    </tr>\n",
       "    <tr>\n",
       "      <th>760527</th>\n",
       "      <td>265553</td>\n",
       "      <td>8</td>\n",
       "      <td>Meditations (Everyman's Library, No. 55)</td>\n",
       "      <td>Marcus Aurelius</td>\n",
       "      <td>100584</td>\n",
       "    </tr>\n",
       "    <tr>\n",
       "      <th>971777</th>\n",
       "      <td>189835</td>\n",
       "      <td>5</td>\n",
       "      <td>The Meditations (Modern Library)</td>\n",
       "      <td>Marcus Aurelius</td>\n",
       "      <td>217512</td>\n",
       "    </tr>\n",
       "  </tbody>\n",
       "</table>\n",
       "</div>"
      ],
      "text/plain": [
       "        userID  rating                                              title  \\\n",
       "417960    9440      10  The Meditations of Marcus Aurelius Antoninus (...   \n",
       "452444   11676      10                     Meditations (Penguin Classics)   \n",
       "452445   18254       5                     Meditations (Penguin Classics)   \n",
       "452448  163419       7                     Meditations (Penguin Classics)   \n",
       "452449  188796      10                     Meditations (Penguin Classics)   \n",
       "452450  219209       9                     Meditations (Penguin Classics)   \n",
       "476449   36268      10                Meditations (Dover Thrift Editions)   \n",
       "476453  116284       9                Meditations (Dover Thrift Editions)   \n",
       "476458  203323       9                Meditations (Dover Thrift Editions)   \n",
       "760527  265553       8           Meditations (Everyman's Library, No. 55)   \n",
       "971777  189835       5                   The Meditations (Modern Library)   \n",
       "\n",
       "                 author  itemID  \n",
       "417960  Marcus Aurelius   24964  \n",
       "452444  Marcus Aurelius   28879  \n",
       "452445  Marcus Aurelius   28879  \n",
       "452448  Marcus Aurelius   28879  \n",
       "452449  Marcus Aurelius   28879  \n",
       "452450  Marcus Aurelius   28879  \n",
       "476449  Marcus Aurelius   31190  \n",
       "476453  Marcus Aurelius   31190  \n",
       "476458  Marcus Aurelius   31190  \n",
       "760527  Marcus Aurelius  100584  \n",
       "971777  Marcus Aurelius  217512  "
      ]
     },
     "execution_count": 125,
     "metadata": {},
     "output_type": "execute_result"
    }
   ],
   "source": [
    "books_df[books_df['author']== \"Marcus Aurelius\"]\n"
   ]
  },
  {
   "cell_type": "code",
   "execution_count": 145,
   "metadata": {},
   "outputs": [
    {
     "name": "stdout",
     "output_type": "stream",
     "text": [
      "Number of users with 10 or more entries: 6589\n"
     ]
    }
   ],
   "source": [
    "item_counts = books_df.groupby('userID').size()\n",
    "num_items_with_10_or_more = item_counts[item_counts >= 10]\n",
    "num_items_with_10_or_more = num_items_with_10_or_more.count()\n",
    "\n",
    "print(f\"Number of users with 10 or more entries: {num_items_with_10_or_more}\")\n"
   ]
  },
  {
   "cell_type": "code",
   "execution_count": 141,
   "metadata": {},
   "outputs": [
    {
     "data": {
      "text/html": [
       "<div>\n",
       "<style scoped>\n",
       "    .dataframe tbody tr th:only-of-type {\n",
       "        vertical-align: middle;\n",
       "    }\n",
       "\n",
       "    .dataframe tbody tr th {\n",
       "        vertical-align: top;\n",
       "    }\n",
       "\n",
       "    .dataframe thead th {\n",
       "        text-align: right;\n",
       "    }\n",
       "</style>\n",
       "<table border=\"1\" class=\"dataframe\">\n",
       "  <thead>\n",
       "    <tr style=\"text-align: right;\">\n",
       "      <th></th>\n",
       "      <th>userID</th>\n",
       "      <th>rating</th>\n",
       "      <th>itemID</th>\n",
       "    </tr>\n",
       "  </thead>\n",
       "  <tbody>\n",
       "    <tr>\n",
       "      <th>count</th>\n",
       "      <td>383842.000000</td>\n",
       "      <td>383842.000000</td>\n",
       "      <td>383842.000000</td>\n",
       "    </tr>\n",
       "    <tr>\n",
       "      <th>mean</th>\n",
       "      <td>136031.461260</td>\n",
       "      <td>7.626701</td>\n",
       "      <td>65918.113794</td>\n",
       "    </tr>\n",
       "    <tr>\n",
       "      <th>std</th>\n",
       "      <td>80482.299401</td>\n",
       "      <td>1.841339</td>\n",
       "      <td>70877.165072</td>\n",
       "    </tr>\n",
       "    <tr>\n",
       "      <th>min</th>\n",
       "      <td>8.000000</td>\n",
       "      <td>1.000000</td>\n",
       "      <td>0.000000</td>\n",
       "    </tr>\n",
       "    <tr>\n",
       "      <th>25%</th>\n",
       "      <td>67591.000000</td>\n",
       "      <td>7.000000</td>\n",
       "      <td>10767.000000</td>\n",
       "    </tr>\n",
       "    <tr>\n",
       "      <th>50%</th>\n",
       "      <td>133789.000000</td>\n",
       "      <td>8.000000</td>\n",
       "      <td>34216.500000</td>\n",
       "    </tr>\n",
       "    <tr>\n",
       "      <th>75%</th>\n",
       "      <td>206219.000000</td>\n",
       "      <td>9.000000</td>\n",
       "      <td>105470.750000</td>\n",
       "    </tr>\n",
       "    <tr>\n",
       "      <th>max</th>\n",
       "      <td>278854.000000</td>\n",
       "      <td>10.000000</td>\n",
       "      <td>270150.000000</td>\n",
       "    </tr>\n",
       "  </tbody>\n",
       "</table>\n",
       "</div>"
      ],
      "text/plain": [
       "              userID         rating         itemID\n",
       "count  383842.000000  383842.000000  383842.000000\n",
       "mean   136031.461260       7.626701   65918.113794\n",
       "std     80482.299401       1.841339   70877.165072\n",
       "min         8.000000       1.000000       0.000000\n",
       "25%     67591.000000       7.000000   10767.000000\n",
       "50%    133789.000000       8.000000   34216.500000\n",
       "75%    206219.000000       9.000000  105470.750000\n",
       "max    278854.000000      10.000000  270150.000000"
      ]
     },
     "execution_count": 141,
     "metadata": {},
     "output_type": "execute_result"
    }
   ],
   "source": [
    "books_df.describe()"
   ]
  },
  {
   "cell_type": "code",
   "execution_count": 134,
   "metadata": {},
   "outputs": [],
   "source": [
    "COL_USER = \"userID\"\n",
    "COL_ITEM = \"itemID\"\n",
    "COL_RATING = \"rating\"\n",
    "COL_PREDICTION = \"pred\"\n"
   ]
  },
  {
   "cell_type": "code",
   "execution_count": 163,
   "metadata": {},
   "outputs": [],
   "source": [
    "data_train, data_test = python_stratified_split(\n",
    "    books_df, filter_by=\"user\", min_rating=10, ratio=0.7,\n",
    "    col_user=COL_USER, col_item=COL_ITEM\n",
    ")"
   ]
  },
  {
   "cell_type": "code",
   "execution_count": 164,
   "metadata": {},
   "outputs": [
    {
     "data": {
      "text/plain": [
       "(261899, 383842)"
      ]
     },
     "execution_count": 164,
     "metadata": {},
     "output_type": "execute_result"
    }
   ],
   "source": [
    "data_train.shape[0] + data_test.shape[0], books_df.shape[0]"
   ]
  },
  {
   "cell_type": "code",
   "execution_count": 165,
   "metadata": {},
   "outputs": [
    {
     "data": {
      "text/plain": [
       "78703"
      ]
     },
     "execution_count": 165,
     "metadata": {},
     "output_type": "execute_result"
    }
   ],
   "source": [
    "data_test.shape[0]"
   ]
  },
  {
   "cell_type": "code",
   "execution_count": 166,
   "metadata": {},
   "outputs": [],
   "source": [
    "data_test = data_test[data_test[\"userID\"].isin(data_train[\"userID\"].unique())]\n",
    "data_test = data_test[data_test[\"itemID\"].isin(data_train[\"itemID\"].unique())]"
   ]
  },
  {
   "cell_type": "code",
   "execution_count": 167,
   "metadata": {},
   "outputs": [
    {
     "data": {
      "text/plain": [
       "47938"
      ]
     },
     "execution_count": 167,
     "metadata": {},
     "output_type": "execute_result"
    }
   ],
   "source": [
    "data_test.shape[0]"
   ]
  },
  {
   "cell_type": "code",
   "execution_count": 168,
   "metadata": {},
   "outputs": [],
   "source": [
    "train_file = \"books_data/train.csv\"\n",
    "test_file = \"books_data/test.csv\"\n",
    "data_train.to_csv(train_file, index=False)\n",
    "data_test.to_csv(test_file, index=False)\n",
    "\n"
   ]
  }
 ],
 "metadata": {
  "kernelspec": {
   "display_name": "ncf_kernel",
   "language": "python",
   "name": "ncf_env"
  },
  "language_info": {
   "codemirror_mode": {
    "name": "ipython",
    "version": 3
   },
   "file_extension": ".py",
   "mimetype": "text/x-python",
   "name": "python",
   "nbconvert_exporter": "python",
   "pygments_lexer": "ipython3",
   "version": "3.9.19"
  }
 },
 "nbformat": 4,
 "nbformat_minor": 2
}
